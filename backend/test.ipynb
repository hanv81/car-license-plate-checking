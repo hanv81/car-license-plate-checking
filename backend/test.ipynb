{
 "cells": [
  {
   "cell_type": "code",
   "execution_count": 15,
   "metadata": {},
   "outputs": [],
   "source": [
    "import requests, io, os, time\n",
    "import database as db\n",
    "from datetime import datetime, timedelta\n",
    "from typing import Union\n",
    "from fastapi import Depends, FastAPI, HTTPException, status, File\n",
    "from fastapi.security import OAuth2PasswordBearer, OAuth2PasswordRequestForm\n",
    "from jose import JWTError, jwt\n",
    "from passlib.context import CryptContext\n",
    "from pydantic import BaseModel\n",
    "from PIL import Image"
   ]
  },
  {
   "cell_type": "code",
   "execution_count": 40,
   "metadata": {},
   "outputs": [],
   "source": [
    "img = Image.open('img.jpg')\n",
    "path = datetime.now().strftime(\"%Y%m\")\n",
    "os.makedirs(os.path.join('history', path), exist_ok=True)\n",
    "img.save(os.path.join('history', path, str(time.time_ns()) + '.jpg'))\n",
    "# s, type(s)"
   ]
  },
  {
   "cell_type": "code",
   "execution_count": 29,
   "metadata": {},
   "outputs": [
    {
     "name": "stdout",
     "output_type": "stream",
     "text": [
      "Connection Pool Name -  pynative_pool\n",
      "Connection Pool Size -  5\n"
     ]
    }
   ],
   "source": [
    "from mysql.connector import Error\n",
    "from mysql.connector import pooling\n",
    "import traceback\n",
    "\n",
    "connection_pool = pooling.MySQLConnectionPool(pool_name=\"pynative_pool\",\n",
    "                                                  pool_size=5,\n",
    "                                                  pool_reset_session=True,\n",
    "                                                  host='localhost',\n",
    "                                                  database='car-door-plate',\n",
    "                                                  user='root',\n",
    "                                                  password='180981')\n",
    "print(\"Connection Pool Name - \", connection_pool.pool_name)\n",
    "print(\"Connection Pool Size - \", connection_pool.pool_size)"
   ]
  },
  {
   "cell_type": "code",
   "execution_count": 20,
   "metadata": {},
   "outputs": [
    {
     "name": "stdout",
     "output_type": "stream",
     "text": [
      "(1, 'hanv', '180981', 'abc')\n"
     ]
    }
   ],
   "source": [
    "def create_user(username, password, refresh_token):\n",
    "    conn = connection_pool.get_connection()\n",
    "    cursor = conn.cursor()\n",
    "    try:\n",
    "        result = cursor.execute(f\"\"\"INSERT INTO `user` (`username`, `password`, `refresh_token`) \n",
    "                                VALUES ('{username}', '{password}', '{refresh_token}')\"\"\")\n",
    "        conn.commit()\n",
    "    except Error as e:\n",
    "        traceback.print_exc()\n",
    "        result = None\n",
    "    finally:\n",
    "        cursor.close()\n",
    "        conn.close()\n",
    "    \n",
    "    return result\n",
    "\n",
    "def get_user(username):\n",
    "    conn = connection_pool.get_connection()\n",
    "    cursor = conn.cursor()\n",
    "    try:\n",
    "        cursor.execute(f\"SELECT * FROM `user` WHERE `username`='{username}'\")\n",
    "        result = cursor.fetchone()\n",
    "        conn.commit()\n",
    "    except Error:\n",
    "        traceback.print_exc()\n",
    "        return None\n",
    "    finally:\n",
    "        cursor.close()\n",
    "        conn.close()\n",
    "    return result\n",
    "\n",
    "# create_user('hanv', '180981', 'abc')\n",
    "print(get_user('hanv'))"
   ]
  },
  {
   "cell_type": "code",
   "execution_count": 28,
   "metadata": {},
   "outputs": [
    {
     "name": "stdout",
     "output_type": "stream",
     "text": [
      "200 {'username': 'hanv', 'password': '180981'}\n"
     ]
    }
   ],
   "source": [
    "def create_user(username, password):\n",
    "    response = requests.get(url='http://127.0.0.1:8000/create_user', \n",
    "                            params={'username': username, 'password':password})\n",
    "    print(response.status_code, response.json())\n",
    "create_user('hanv', '180981')"
   ]
  },
  {
   "cell_type": "code",
   "execution_count": 32,
   "metadata": {},
   "outputs": [],
   "source": [
    "def add_history(username, plate, path):\n",
    "    conn = connection_pool.get_connection()\n",
    "    cursor = conn.cursor()\n",
    "    try:\n",
    "        cursor.execute(f\"\"\"INSERT INTO `history_{datetime.now().strftime(\"%Y%m\")}` (`username`, `plate`, `path`)\n",
    "                       VALUES ('{username}', '{plate}', '{path}')\"\"\")\n",
    "        conn.commit()\n",
    "    except Exception:\n",
    "        print('Exception add_history')\n",
    "    finally:\n",
    "        cursor.close()\n",
    "        conn.close()\n",
    "\n",
    "add_history('hanv', 'abc123', 'history\\\\202310\\\\hanv.jpg')"
   ]
  }
 ],
 "metadata": {
  "kernelspec": {
   "display_name": "Python 3",
   "language": "python",
   "name": "python3"
  },
  "language_info": {
   "codemirror_mode": {
    "name": "ipython",
    "version": 3
   },
   "file_extension": ".py",
   "mimetype": "text/x-python",
   "name": "python",
   "nbconvert_exporter": "python",
   "pygments_lexer": "ipython3",
   "version": "3.9.5"
  },
  "orig_nbformat": 4
 },
 "nbformat": 4,
 "nbformat_minor": 2
}
